{
 "cells": [
  {
   "cell_type": "code",
   "execution_count": 23,
   "id": "0514e6d0-8e8a-4a4d-b3e8-8f480d418860",
   "metadata": {},
   "outputs": [
    {
     "name": "stdout",
     "output_type": "stream",
     "text": [
      "100.0% 終了しました。\n"
     ]
    }
   ],
   "source": [
    "from sys import stdout\n",
    "import time\n",
    "\n",
    "max = 100\n",
    "for i in range(max):\n",
    "    time.sleep(0.1)\n",
    "\n",
    "    stdout.write(f'\\r{(i + 1.0) / max:>6.1%} 終了しました。')\n",
    "    stdout.flush()\n",
    "\n",
    "print()"
   ]
  },
  {
   "cell_type": "code",
   "execution_count": null,
   "id": "4292ab3b-dfea-4418-b2c2-5370f13bb0e8",
   "metadata": {},
   "outputs": [],
   "source": []
  }
 ],
 "metadata": {
  "kernelspec": {
   "display_name": "Python 3 (ipykernel)",
   "language": "python",
   "name": "python3"
  },
  "language_info": {
   "codemirror_mode": {
    "name": "ipython",
    "version": 3
   },
   "file_extension": ".py",
   "mimetype": "text/x-python",
   "name": "python",
   "nbconvert_exporter": "python",
   "pygments_lexer": "ipython3",
   "version": "3.13.1"
  }
 },
 "nbformat": 4,
 "nbformat_minor": 5
}
