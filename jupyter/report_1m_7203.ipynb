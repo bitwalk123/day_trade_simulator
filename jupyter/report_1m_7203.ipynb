{
 "cells": [
  {
   "cell_type": "markdown",
   "id": "25445cc7-12d1-4a56-9fab-c385419c979e",
   "metadata": {},
   "source": [
    "# トヨタ自動車 (``7203``) １分足"
   ]
  },
  {
   "cell_type": "markdown",
   "id": "15879030-15cc-40c4-bfe5-96b2f829b5b9",
   "metadata": {},
   "source": [
    "### システムパスに一つ上のディレクトリ ``..`` を追加"
   ]
  },
  {
   "cell_type": "code",
   "execution_count": 15,
   "id": "cce38370-70bd-43b3-a2fa-7d8af71bbcc7",
   "metadata": {},
   "outputs": [],
   "source": [
    "import sys\n",
    "sys.path.append('..')"
   ]
  },
  {
   "cell_type": "markdown",
   "id": "b7953a49-dc6e-42e4-894a-0d243a7a3878",
   "metadata": {},
   "source": [
    "## ライブラリのインポート"
   ]
  },
  {
   "cell_type": "code",
   "execution_count": 16,
   "id": "f49d8b7e-45b9-44ac-8c89-bd76301c7bef",
   "metadata": {},
   "outputs": [],
   "source": [
    "import re\n",
    "\n",
    "import mplfinance as mpf\n",
    "import numpy as np\n",
    "import pandas as pd\n",
    "import yfinance as yf\n",
    "\n",
    "from funcs.technical import psar"
   ]
  },
  {
   "cell_type": "markdown",
   "id": "a7b73fc8-8b81-4295-a878-0735b95fbbde",
   "metadata": {},
   "source": [
    "## yfinance で OHLC データを読み込む"
   ]
  },
  {
   "cell_type": "code",
   "execution_count": 17,
   "id": "68470abb-d965-4532-8766-d5687088864b",
   "metadata": {},
   "outputs": [
    {
     "data": {
      "text/html": [
       "<div>\n",
       "<style scoped>\n",
       "    .dataframe tbody tr th:only-of-type {\n",
       "        vertical-align: middle;\n",
       "    }\n",
       "\n",
       "    .dataframe tbody tr th {\n",
       "        vertical-align: top;\n",
       "    }\n",
       "\n",
       "    .dataframe thead th {\n",
       "        text-align: right;\n",
       "    }\n",
       "</style>\n",
       "<table border=\"1\" class=\"dataframe\">\n",
       "  <thead>\n",
       "    <tr style=\"text-align: right;\">\n",
       "      <th></th>\n",
       "      <th>Open</th>\n",
       "      <th>High</th>\n",
       "      <th>Low</th>\n",
       "      <th>Close</th>\n",
       "      <th>Volume</th>\n",
       "      <th>Dividends</th>\n",
       "      <th>Stock Splits</th>\n",
       "    </tr>\n",
       "    <tr>\n",
       "      <th>Datetime</th>\n",
       "      <th></th>\n",
       "      <th></th>\n",
       "      <th></th>\n",
       "      <th></th>\n",
       "      <th></th>\n",
       "      <th></th>\n",
       "      <th></th>\n",
       "    </tr>\n",
       "  </thead>\n",
       "  <tbody>\n",
       "    <tr>\n",
       "      <th>2025-03-06 09:05:00+09:00</th>\n",
       "      <td>2874.0</td>\n",
       "      <td>2877.0</td>\n",
       "      <td>2870.0</td>\n",
       "      <td>2876.0</td>\n",
       "      <td>0</td>\n",
       "      <td>0.0</td>\n",
       "      <td>0.0</td>\n",
       "    </tr>\n",
       "    <tr>\n",
       "      <th>2025-03-06 09:06:00+09:00</th>\n",
       "      <td>2876.0</td>\n",
       "      <td>2879.5</td>\n",
       "      <td>2873.5</td>\n",
       "      <td>2873.5</td>\n",
       "      <td>150300</td>\n",
       "      <td>0.0</td>\n",
       "      <td>0.0</td>\n",
       "    </tr>\n",
       "    <tr>\n",
       "      <th>2025-03-06 09:07:00+09:00</th>\n",
       "      <td>2873.5</td>\n",
       "      <td>2875.0</td>\n",
       "      <td>2866.5</td>\n",
       "      <td>2871.5</td>\n",
       "      <td>164400</td>\n",
       "      <td>0.0</td>\n",
       "      <td>0.0</td>\n",
       "    </tr>\n",
       "    <tr>\n",
       "      <th>2025-03-06 09:08:00+09:00</th>\n",
       "      <td>2872.0</td>\n",
       "      <td>2873.0</td>\n",
       "      <td>2863.5</td>\n",
       "      <td>2866.0</td>\n",
       "      <td>179500</td>\n",
       "      <td>0.0</td>\n",
       "      <td>0.0</td>\n",
       "    </tr>\n",
       "    <tr>\n",
       "      <th>2025-03-06 09:09:00+09:00</th>\n",
       "      <td>2865.5</td>\n",
       "      <td>2865.5</td>\n",
       "      <td>2859.0</td>\n",
       "      <td>2860.5</td>\n",
       "      <td>126600</td>\n",
       "      <td>0.0</td>\n",
       "      <td>0.0</td>\n",
       "    </tr>\n",
       "    <tr>\n",
       "      <th>...</th>\n",
       "      <td>...</td>\n",
       "      <td>...</td>\n",
       "      <td>...</td>\n",
       "      <td>...</td>\n",
       "      <td>...</td>\n",
       "      <td>...</td>\n",
       "      <td>...</td>\n",
       "    </tr>\n",
       "    <tr>\n",
       "      <th>2025-03-06 15:20:00+09:00</th>\n",
       "      <td>2823.0</td>\n",
       "      <td>2823.0</td>\n",
       "      <td>2821.5</td>\n",
       "      <td>2822.0</td>\n",
       "      <td>59600</td>\n",
       "      <td>0.0</td>\n",
       "      <td>0.0</td>\n",
       "    </tr>\n",
       "    <tr>\n",
       "      <th>2025-03-06 15:21:00+09:00</th>\n",
       "      <td>2822.5</td>\n",
       "      <td>2823.0</td>\n",
       "      <td>2821.5</td>\n",
       "      <td>2823.0</td>\n",
       "      <td>36600</td>\n",
       "      <td>0.0</td>\n",
       "      <td>0.0</td>\n",
       "    </tr>\n",
       "    <tr>\n",
       "      <th>2025-03-06 15:22:00+09:00</th>\n",
       "      <td>2823.0</td>\n",
       "      <td>2823.0</td>\n",
       "      <td>2821.5</td>\n",
       "      <td>2821.5</td>\n",
       "      <td>65700</td>\n",
       "      <td>0.0</td>\n",
       "      <td>0.0</td>\n",
       "    </tr>\n",
       "    <tr>\n",
       "      <th>2025-03-06 15:23:00+09:00</th>\n",
       "      <td>2821.5</td>\n",
       "      <td>2822.5</td>\n",
       "      <td>2820.5</td>\n",
       "      <td>2821.5</td>\n",
       "      <td>55700</td>\n",
       "      <td>0.0</td>\n",
       "      <td>0.0</td>\n",
       "    </tr>\n",
       "    <tr>\n",
       "      <th>2025-03-06 15:24:00+09:00</th>\n",
       "      <td>2820.5</td>\n",
       "      <td>2822.0</td>\n",
       "      <td>2818.5</td>\n",
       "      <td>2821.5</td>\n",
       "      <td>223500</td>\n",
       "      <td>0.0</td>\n",
       "      <td>0.0</td>\n",
       "    </tr>\n",
       "  </tbody>\n",
       "</table>\n",
       "<p>321 rows × 7 columns</p>\n",
       "</div>"
      ],
      "text/plain": [
       "                             Open    High     Low   Close  Volume  Dividends  \\\n",
       "Datetime                                                                       \n",
       "2025-03-06 09:05:00+09:00  2874.0  2877.0  2870.0  2876.0       0        0.0   \n",
       "2025-03-06 09:06:00+09:00  2876.0  2879.5  2873.5  2873.5  150300        0.0   \n",
       "2025-03-06 09:07:00+09:00  2873.5  2875.0  2866.5  2871.5  164400        0.0   \n",
       "2025-03-06 09:08:00+09:00  2872.0  2873.0  2863.5  2866.0  179500        0.0   \n",
       "2025-03-06 09:09:00+09:00  2865.5  2865.5  2859.0  2860.5  126600        0.0   \n",
       "...                           ...     ...     ...     ...     ...        ...   \n",
       "2025-03-06 15:20:00+09:00  2823.0  2823.0  2821.5  2822.0   59600        0.0   \n",
       "2025-03-06 15:21:00+09:00  2822.5  2823.0  2821.5  2823.0   36600        0.0   \n",
       "2025-03-06 15:22:00+09:00  2823.0  2823.0  2821.5  2821.5   65700        0.0   \n",
       "2025-03-06 15:23:00+09:00  2821.5  2822.5  2820.5  2821.5   55700        0.0   \n",
       "2025-03-06 15:24:00+09:00  2820.5  2822.0  2818.5  2821.5  223500        0.0   \n",
       "\n",
       "                           Stock Splits  \n",
       "Datetime                                 \n",
       "2025-03-06 09:05:00+09:00           0.0  \n",
       "2025-03-06 09:06:00+09:00           0.0  \n",
       "2025-03-06 09:07:00+09:00           0.0  \n",
       "2025-03-06 09:08:00+09:00           0.0  \n",
       "2025-03-06 09:09:00+09:00           0.0  \n",
       "...                                 ...  \n",
       "2025-03-06 15:20:00+09:00           0.0  \n",
       "2025-03-06 15:21:00+09:00           0.0  \n",
       "2025-03-06 15:22:00+09:00           0.0  \n",
       "2025-03-06 15:23:00+09:00           0.0  \n",
       "2025-03-06 15:24:00+09:00           0.0  \n",
       "\n",
       "[321 rows x 7 columns]"
      ]
     },
     "execution_count": 17,
     "metadata": {},
     "output_type": "execute_result"
    }
   ],
   "source": [
    "symbol = '7203.T'\n",
    "ticker = yf.Ticker(symbol)\n",
    "\n",
    "df = ticker.history(period='1d', interval='1m')\n",
    "df"
   ]
  },
  {
   "cell_type": "markdown",
   "id": "f6838bb8-4853-4852-bb58-2d813b6a57e7",
   "metadata": {},
   "source": [
    "## チャート"
   ]
  },
  {
   "cell_type": "markdown",
   "id": "8460b02d-2fbc-4883-b8c7-4b16a1e040a8",
   "metadata": {},
   "source": [
    "### フォントの設定"
   ]
  },
  {
   "cell_type": "code",
   "execution_count": 18,
   "id": "103f7019-c4bb-42d1-9c50-bc52340ead67",
   "metadata": {},
   "outputs": [],
   "source": [
    "FONT_PATH = \"../fonts/RictyDiminished-Regular.ttf\"\n",
    "fm.fontManager.addfont(FONT_PATH)\n",
    "\n",
    "# FontPropertiesオブジェクト生成（名前の取得のため）\n",
    "font_prop = fm.FontProperties(fname=FONT_PATH)\n",
    "font_prop.get_name()\n",
    "\n",
    "plt.rcParams['font.family'] = font_prop.get_name()\n",
    "plt.rcParams['font.size'] = 16"
   ]
  },
  {
   "cell_type": "markdown",
   "id": "97b04960-3234-4659-b928-58b42f8b9558",
   "metadata": {},
   "source": [
    "### mplfinance でプロット"
   ]
  },
  {
   "cell_type": "code",
   "execution_count": 19,
   "id": "2c7c5502-e1c2-49eb-bca9-509aab6745d2",
   "metadata": {},
   "outputs": [
    {
     "data": {
      "image/png": "[encoded data removed]",
      "text/plain": [
       "<Figure size 1200x400 with 1 Axes>"
      ]
     },
     "metadata": {},
     "output_type": "display_data"
    }
   ],
   "source": [
    "dict_psar = psar(df)\n",
    "\n",
    "fig = plt.figure(figsize=(12, 4))\n",
    "ax = fig.add_subplot(111)\n",
    "\n",
    "apds  = [\n",
    "    mpf.make_addplot(dict_psar['bear'], type='scatter', marker='o', markersize=5, color='blue', label='downtrend', ax=ax),\n",
    "    mpf.make_addplot(dict_psar['bull'], type='scatter', marker='o', markersize=5, color='red', label='uptrend', ax=ax),\n",
    "] \n",
    "mpf.plot(df, type='candle', style='default', volume=False, datetime_format='%H:%M', addplot=apds, xrotation=0, ax=ax,)\n",
    "\n",
    "ax.grid()\n",
    "ax.legend(fontsize=9)\n",
    "\n",
    "try:\n",
    "    ax.set_title('1 min chart for %s (%s)' % (ticker.info['longName'], symbol))\n",
    "except KeyError:\n",
    "    ax.set_title('1 min chart for %s' % symbol)\n",
    "\n",
    "plt.tight_layout()\n",
    "\n",
    "pattern = re.compile(r'(.+)\\.T')\n",
    "m = pattern.match(symbol)\n",
    "if m:\n",
    "    plt.savefig('report_1m_chart_%s.png' % m.group(1))\n",
    "else:\n",
    "    plt.savefig('report_1m_chart_%s.png' % symbol)\n",
    "\n",
    "plt.show()"
   ]
  },
  {
   "cell_type": "code",
   "execution_count": null,
   "id": "114be0ee-fb3d-413a-b6f4-4b1795045e66",
   "metadata": {},
   "outputs": [],
   "source": []
  }
 ],
 "metadata": {
  "kernelspec": {
   "display_name": "Python 3 (ipykernel)",
   "language": "python",
   "name": "python3"
  },
  "language_info": {
   "codemirror_mode": {
    "name": "ipython",
    "version": 3
   },
   "file_extension": ".py",
   "mimetype": "text/x-python",
   "name": "python",
   "nbconvert_exporter": "python",
   "pygments_lexer": "ipython3",
   "version": "3.13.2"
  }
 },
 "nbformat": 4,
 "nbformat_minor": 5
}
