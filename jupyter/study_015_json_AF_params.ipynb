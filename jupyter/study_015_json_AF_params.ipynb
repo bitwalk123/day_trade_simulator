{
 "cells": [
  {
   "cell_type": "code",
   "execution_count": 1,
   "id": "32b934d5-23e8-4720-b695-e994238e090c",
   "metadata": {},
   "outputs": [],
   "source": [
    "import pandas as pd"
   ]
  },
  {
   "cell_type": "code",
   "execution_count": 2,
   "id": "d5e41965-7e17-4294-827c-d94b9f194c5f",
   "metadata": {},
   "outputs": [
    {
     "data": {
      "text/html": [
       "<div>\n",
       "<style scoped>\n",
       "    .dataframe tbody tr th:only-of-type {\n",
       "        vertical-align: middle;\n",
       "    }\n",
       "\n",
       "    .dataframe tbody tr th {\n",
       "        vertical-align: top;\n",
       "    }\n",
       "\n",
       "    .dataframe thead th {\n",
       "        text-align: right;\n",
       "    }\n",
       "</style>\n",
       "<table border=\"1\" class=\"dataframe\">\n",
       "  <thead>\n",
       "    <tr style=\"text-align: right;\">\n",
       "      <th></th>\n",
       "      <th>af_init</th>\n",
       "      <th>af_step</th>\n",
       "      <th>af_max</th>\n",
       "    </tr>\n",
       "    <tr>\n",
       "      <th>#</th>\n",
       "      <th></th>\n",
       "      <th></th>\n",
       "      <th></th>\n",
       "    </tr>\n",
       "  </thead>\n",
       "  <tbody>\n",
       "    <tr>\n",
       "      <th>1</th>\n",
       "      <td>0.00200</td>\n",
       "      <td>0.00200</td>\n",
       "      <td>0.0200</td>\n",
       "    </tr>\n",
       "    <tr>\n",
       "      <th>2</th>\n",
       "      <td>0.00070</td>\n",
       "      <td>0.00070</td>\n",
       "      <td>0.0070</td>\n",
       "    </tr>\n",
       "    <tr>\n",
       "      <th>3</th>\n",
       "      <td>0.00020</td>\n",
       "      <td>0.00020</td>\n",
       "      <td>0.0020</td>\n",
       "    </tr>\n",
       "    <tr>\n",
       "      <th>4</th>\n",
       "      <td>0.00007</td>\n",
       "      <td>0.00007</td>\n",
       "      <td>0.0007</td>\n",
       "    </tr>\n",
       "    <tr>\n",
       "      <th>5</th>\n",
       "      <td>0.00002</td>\n",
       "      <td>0.00002</td>\n",
       "      <td>0.0002</td>\n",
       "    </tr>\n",
       "  </tbody>\n",
       "</table>\n",
       "</div>"
      ],
      "text/plain": [
       "   af_init  af_step  af_max\n",
       "#                          \n",
       "1  0.00200  0.00200  0.0200\n",
       "2  0.00070  0.00070  0.0070\n",
       "3  0.00020  0.00020  0.0020\n",
       "4  0.00007  0.00007  0.0007\n",
       "5  0.00002  0.00002  0.0002"
      ]
     },
     "execution_count": 2,
     "metadata": {},
     "output_type": "execute_result"
    }
   ],
   "source": [
    "df = pd.DataFrame()\n",
    "df.index.name = '#'\n",
    "\n",
    "df.at[1, 'af_init'] = 0.002\n",
    "df.at[1, 'af_step'] = 0.002\n",
    "df.at[1, 'af_max'] = 0.02\n",
    "\n",
    "df.at[2, 'af_init'] = 0.0007\n",
    "df.at[2, 'af_step'] = 0.0007\n",
    "df.at[2, 'af_max'] = 0.007\n",
    "\n",
    "df.at[3, 'af_init'] = 0.0002\n",
    "df.at[3, 'af_step'] = 0.0002\n",
    "df.at[3, 'af_max'] = 0.002\n",
    "\n",
    "df.at[4, 'af_init'] = 0.00007\n",
    "df.at[4, 'af_step'] = 0.00007\n",
    "df.at[4, 'af_max'] = 0.0007\n",
    "\n",
    "df.at[5, 'af_init'] = 0.00002\n",
    "df.at[5, 'af_step'] = 0.00002\n",
    "df.at[5, 'af_max'] = 0.0002\n",
    "\n",
    "df"
   ]
  },
  {
   "cell_type": "code",
   "execution_count": 3,
   "id": "daed54f5-f2a6-41c0-86db-67ae95775943",
   "metadata": {},
   "outputs": [],
   "source": [
    "file_json = 'af_params.json'\n",
    "df.to_json(file_json)"
   ]
  },
  {
   "cell_type": "code",
   "execution_count": 4,
   "id": "c49f87ca-7929-4da2-b147-f21f0f7b566e",
   "metadata": {},
   "outputs": [
    {
     "data": {
      "text/html": [
       "<div>\n",
       "<style scoped>\n",
       "    .dataframe tbody tr th:only-of-type {\n",
       "        vertical-align: middle;\n",
       "    }\n",
       "\n",
       "    .dataframe tbody tr th {\n",
       "        vertical-align: top;\n",
       "    }\n",
       "\n",
       "    .dataframe thead th {\n",
       "        text-align: right;\n",
       "    }\n",
       "</style>\n",
       "<table border=\"1\" class=\"dataframe\">\n",
       "  <thead>\n",
       "    <tr style=\"text-align: right;\">\n",
       "      <th></th>\n",
       "      <th>af_init</th>\n",
       "      <th>af_step</th>\n",
       "      <th>af_max</th>\n",
       "    </tr>\n",
       "  </thead>\n",
       "  <tbody>\n",
       "    <tr>\n",
       "      <th>1</th>\n",
       "      <td>0.00200</td>\n",
       "      <td>0.00200</td>\n",
       "      <td>0.0200</td>\n",
       "    </tr>\n",
       "    <tr>\n",
       "      <th>2</th>\n",
       "      <td>0.00070</td>\n",
       "      <td>0.00070</td>\n",
       "      <td>0.0070</td>\n",
       "    </tr>\n",
       "    <tr>\n",
       "      <th>3</th>\n",
       "      <td>0.00020</td>\n",
       "      <td>0.00020</td>\n",
       "      <td>0.0020</td>\n",
       "    </tr>\n",
       "    <tr>\n",
       "      <th>4</th>\n",
       "      <td>0.00007</td>\n",
       "      <td>0.00007</td>\n",
       "      <td>0.0007</td>\n",
       "    </tr>\n",
       "    <tr>\n",
       "      <th>5</th>\n",
       "      <td>0.00002</td>\n",
       "      <td>0.00002</td>\n",
       "      <td>0.0002</td>\n",
       "    </tr>\n",
       "  </tbody>\n",
       "</table>\n",
       "</div>"
      ],
      "text/plain": [
       "   af_init  af_step  af_max\n",
       "1  0.00200  0.00200  0.0200\n",
       "2  0.00070  0.00070  0.0070\n",
       "3  0.00020  0.00020  0.0020\n",
       "4  0.00007  0.00007  0.0007\n",
       "5  0.00002  0.00002  0.0002"
      ]
     },
     "execution_count": 4,
     "metadata": {},
     "output_type": "execute_result"
    }
   ],
   "source": [
    "pd.read_json(file_json)"
   ]
  },
  {
   "cell_type": "code",
   "execution_count": null,
   "id": "c1bc7793-f9a6-4406-ba15-e7ea2be23f19",
   "metadata": {},
   "outputs": [],
   "source": []
  }
 ],
 "metadata": {
  "kernelspec": {
   "display_name": "Python 3 (ipykernel)",
   "language": "python",
   "name": "python3"
  },
  "language_info": {
   "codemirror_mode": {
    "name": "ipython",
    "version": 3
   },
   "file_extension": ".py",
   "mimetype": "text/x-python",
   "name": "python",
   "nbconvert_exporter": "python",
   "pygments_lexer": "ipython3",
   "version": "3.13.2"
  }
 },
 "nbformat": 4,
 "nbformat_minor": 5
}
