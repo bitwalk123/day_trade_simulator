{
 "cells": [
  {
   "cell_type": "markdown",
   "id": "11bd0d65-b988-484f-9b14-02988fc8c8f6",
   "metadata": {},
   "source": [
    "# Excelファイルの読み込み\n",
    "\n",
    "pandas.read_excel()では内部でopenpyxlとxlrdというライブラリを使っているため、あらかじめインストールしておく必要がある。"
   ]
  },
  {
   "cell_type": "code",
   "execution_count": 1,
   "id": "eefaf3ee-023c-4ae9-a7d3-e2f6b6628a29",
   "metadata": {},
   "outputs": [],
   "source": [
    "import sys\n",
    "sys.path.append('..')"
   ]
  },
  {
   "cell_type": "code",
   "execution_count": 2,
   "id": "fc91408d-c839-407b-8bc3-69344a2511f2",
   "metadata": {},
   "outputs": [],
   "source": [
    "import pandas as pd\n",
    "\n",
    "from funcs.conv import df_to_html"
   ]
  },
  {
   "cell_type": "code",
   "execution_count": 4,
   "id": "d81729d8-8bf7-471f-a5d3-d555ee9531f5",
   "metadata": {},
   "outputs": [
    {
     "data": {
      "text/html": [
       "<div>\n",
       "<style scoped>\n",
       "    .dataframe tbody tr th:only-of-type {\n",
       "        vertical-align: middle;\n",
       "    }\n",
       "\n",
       "    .dataframe tbody tr th {\n",
       "        vertical-align: top;\n",
       "    }\n",
       "\n",
       "    .dataframe thead th {\n",
       "        text-align: right;\n",
       "    }\n",
       "</style>\n",
       "<table border=\"1\" class=\"dataframe\">\n",
       "  <thead>\n",
       "    <tr style=\"text-align: right;\">\n",
       "      <th></th>\n",
       "      <th>注文番号</th>\n",
       "      <th>時刻</th>\n",
       "      <th>売買</th>\n",
       "      <th>金額</th>\n",
       "      <th>損益</th>\n",
       "      <th>最大益</th>\n",
       "      <th>最大損</th>\n",
       "      <th>備考</th>\n",
       "    </tr>\n",
       "  </thead>\n",
       "  <tbody>\n",
       "    <tr>\n",
       "      <th>0</th>\n",
       "      <td>1</td>\n",
       "      <td>10:28:01</td>\n",
       "      <td>買建</td>\n",
       "      <td>191800</td>\n",
       "      <td>NaN</td>\n",
       "      <td>NaN</td>\n",
       "      <td>NaN</td>\n",
       "      <td>建玉, period = 1, slope =1.0, IQR =0.50</td>\n",
       "    </tr>\n",
       "    <tr>\n",
       "      <th>1</th>\n",
       "      <td>1</td>\n",
       "      <td>10:32:01</td>\n",
       "      <td>売埋</td>\n",
       "      <td>191350</td>\n",
       "      <td>-450.0</td>\n",
       "      <td>50</td>\n",
       "      <td>-750</td>\n",
       "      <td>返済, period = 4</td>\n",
       "    </tr>\n",
       "    <tr>\n",
       "      <th>2</th>\n",
       "      <td>2</td>\n",
       "      <td>15:17:01</td>\n",
       "      <td>売建</td>\n",
       "      <td>192650</td>\n",
       "      <td>NaN</td>\n",
       "      <td>NaN</td>\n",
       "      <td>NaN</td>\n",
       "      <td>建玉, period = 1, slope =1.0, IQR =1.00</td>\n",
       "    </tr>\n",
       "    <tr>\n",
       "      <th>3</th>\n",
       "      <td>2</td>\n",
       "      <td>15:24:50</td>\n",
       "      <td>買埋</td>\n",
       "      <td>192650</td>\n",
       "      <td>0.0</td>\n",
       "      <td>100</td>\n",
       "      <td>-100</td>\n",
       "      <td>強制（大引け前）, period = 8</td>\n",
       "    </tr>\n",
       "    <tr>\n",
       "      <th>4</th>\n",
       "      <td>---</td>\n",
       "      <td>---</td>\n",
       "      <td>---</td>\n",
       "      <td>実現損益</td>\n",
       "      <td>-450.0</td>\n",
       "      <td>---</td>\n",
       "      <td>---</td>\n",
       "      <td>---</td>\n",
       "    </tr>\n",
       "  </tbody>\n",
       "</table>\n",
       "</div>"
      ],
      "text/plain": [
       "  注文番号        時刻   売買      金額     損益  最大益   最大損  \\\n",
       "0    1  10:28:01   買建  191800    NaN  NaN   NaN   \n",
       "1    1  10:32:01   売埋  191350 -450.0   50  -750   \n",
       "2    2  15:17:01   売建  192650    NaN  NaN   NaN   \n",
       "3    2  15:24:50   買埋  192650    0.0  100  -100   \n",
       "4  ---       ---  ---    実現損益 -450.0  ---   ---   \n",
       "\n",
       "                                      備考  \n",
       "0  建玉, period = 1, slope =1.0, IQR =0.50  \n",
       "1                         返済, period = 4  \n",
       "2  建玉, period = 1, slope =1.0, IQR =1.00  \n",
       "3                   強制（大引け前）, period = 8  \n",
       "4                                    ---  "
      ]
     },
     "execution_count": 4,
     "metadata": {},
     "output_type": "execute_result"
    }
   ],
   "source": [
    "file_body = '../excel/trader_8306_20250305'\n",
    "file_excel = '%s.xlsm' % file_body\n",
    "df = pd.read_excel(file_excel, sheet_name='Transaction')\n",
    "df"
   ]
  },
  {
   "cell_type": "code",
   "execution_count": 5,
   "id": "6db79816-eab6-43b8-b079-330128eb4cae",
   "metadata": {},
   "outputs": [],
   "source": [
    "list_col_format = ['int', 'str', 'str', 'int', 'int', 'int', 'int', 'str']\n",
    "list_html = df_to_html(df, list_col_format)\n",
    "\n",
    "file_html = '%s.html' % file_body\n",
    "with open(file_html, mode='w') as f:\n",
    "    f.writelines(list_html)"
   ]
  },
  {
   "cell_type": "code",
   "execution_count": null,
   "id": "df220442-930d-49b7-909f-e2ba2b653be1",
   "metadata": {},
   "outputs": [],
   "source": []
  }
 ],
 "metadata": {
  "kernelspec": {
   "display_name": "Python 3 (ipykernel)",
   "language": "python",
   "name": "python3"
  },
  "language_info": {
   "codemirror_mode": {
    "name": "ipython",
    "version": 3
   },
   "file_extension": ".py",
   "mimetype": "text/x-python",
   "name": "python",
   "nbconvert_exporter": "python",
   "pygments_lexer": "ipython3",
   "version": "3.13.2"
  }
 },
 "nbformat": 4,
 "nbformat_minor": 5
}
